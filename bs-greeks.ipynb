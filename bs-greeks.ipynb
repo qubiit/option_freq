{
 "cells": [
  {
   "cell_type": "markdown",
   "metadata": {},
   "source": [
    "Option has different dimensions of risk where greeks refer to a set of calculations to measure it's exposure. Option Greeks are financial measures of the sensitivity of its price to the underlying determining parameters. \n",
    "\n",
    "**Delta (Δ):** Rate of change in option price with respect to the underlying stock price (1st derivative). It measures the sensitivity of an option’s price changes relative to the changes in the underlying asset’s price.\n",
    "\n",
    "**Gamma (Γ):** Rate of change in delta with respect to the underlying stock price (2nd derivative).\n",
    "\n",
    "**Vega (ν):** Rate of change in option price with respect to the volatility (σ) of the stock price. The funny thing is Vega is not a Greek letter.\n",
    "\n",
    "**Theta (θ):** Rate of change in option price with respect to time (i.e. time decay). It measures the sensitivity of the option price relative to the it’s time to maturity.\n",
    "\n",
    "**Rho (ρ):** Rate of change in option price with respect to interest rate. It measures the sensitivity of the option price relative to interest rates.\n",
    "\n",
    "Other greeks like Lambda, Epsilon, Vannna, Charm, Veta, Vera are not so popular in finance community.\n",
    "\n",
    "The formula's for calculating The Greeks are defined as follows:\n",
    "\n",
    "$S_t$ = Stock price at time $t$, \n",
    "\n",
    "$K$ = Strike price of option, \n",
    "\n",
    "$T$ is time until expiration in years, \n",
    "\n",
    "$r$ = risk-free interest rate $\\sigma$ = standard deviation (i.e. volatility), \n",
    "\n",
    "$\\Phi$ is the Cumulative Density Function (CDF) of the standard normal distribution ($N(0, 1)$),\n",
    "\n",
    "$\\phi$ is the Probability Density Function (PDF) of $N(0, 1)$.\n",
    "\n",
    "$d_1^{(t)} = \\frac{1}{\\sigma \\sqrt{T}}[ln(\\frac{S_t}{K}) + (r+\\frac{\\sigma^2}{2})T]$\n",
    "\n",
    "$d_2^{(t)} = d_1^{(t)} - \\sigma \\sqrt{T}$\n",
    "\n",
    "**Call options (C)**\n",
    "\n",
    "Delta ($\\Delta$) = $\\frac{\\partial C}{\\partial S} = \\Phi(d_1^{(t)})$\n",
    "\n",
    "Gamma ($\\Gamma$) = $\\frac{\\partial^2 C}{\\partial S^2} = \\frac{\\phi(d_1^{(t)})}{S \\sigma \\sqrt{T}}$\n",
    "\n",
    "Vega ($\\mathcal{V}$) = $\\frac{\\partial C}{\\partial \\sigma} = S \\phi(d_1^{(t)})\\sqrt{T}$\n",
    "\n",
    "Theta $(\\Theta)$ = $\\frac{\\partial C}{\\partial t} = -\\frac{S\\phi(d_1^{(t)}) \\sigma}{2 \\sqrt{T}} - rKe^{-rT}\\Phi(d_2^{(t)})$\n",
    "\n",
    "Rho ($\\mathrm{P}$) = $\\frac{\\partial C}{\\partial r} = KTe^{-rT}\\Phi(d_2^{(t)})$\n",
    "\n",
    "**Put options (P)**\n",
    "\n",
    "Delta ($\\Delta$) = $\\frac{\\partial P}{\\partial S} = \\Phi(d_1^{(t)}) - 1$\n",
    "\n",
    "Gamma ($\\Gamma$) = $\\frac{\\partial^2 P}{\\partial S^2} = \\frac{\\phi(d_1^{(t)})}{S \\sigma \\sqrt{T}}$\n",
    "\n",
    "Vega ($\\mathcal{V}$) = $\\frac{\\partial P}{\\partial \\sigma} = S \\phi(d_1^{(t)})\\sqrt{T}$\n",
    "\n",
    "Theta $(\\Theta)$ = $\\frac{\\partial P}{\\partial t} = -\\frac{S\\phi(d_1^{(t)}) \\sigma}{2 \\sqrt{T}} - rKe^{-rT}\\Phi(-d_2^{(t)})$\n",
    "\n",
    "Rho ($\\rho$) = $\\frac{\\partial P}{\\partial r} = -KTe^{-rT}\\Phi(-d_2^{(t)})$"
   ]
  },
  {
   "cell_type": "code",
   "execution_count": 1,
   "metadata": {},
   "outputs": [],
   "source": [
    "import numpy as np\n",
    "from scipy.stats import norm"
   ]
  },
  {
   "cell_type": "code",
   "execution_count": 2,
   "metadata": {},
   "outputs": [],
   "source": [
    "class Bs_Greeks:\n",
    "\n",
    "    @staticmethod\n",
    "    def _d1(S, K, T, r, sigma):\n",
    "        return (1 / (sigma * np.sqrt(T))) * (np.log(S/K) + (r + sigma**2 / 2) * T)\n",
    "    \n",
    "    def _d2(self, S, K, T, r, sigma):\n",
    "        return self._d1(S, K, T, r, sigma) - sigma * np.sqrt(T)\n",
    "    \n",
    "    def call_delta(self, S, K, T, r, sigma):\n",
    "        d1 = self._d1(S, K, T, r, sigma)\n",
    "        return norm.cdf(d1)\n",
    "    \n",
    "    def call_gamma(self, S, K, T, r, sigma):\n",
    "        d1 = self._d1(S, K, T, r, sigma)\n",
    "        return norm.pdf(d1) / (S * sigma * np.sqrt(T))\n",
    "    \n",
    "    def call_vega(self, S, K, T, r, sigma):\n",
    "        d1 = self._d1(S, K, T, r, sigma)\n",
    "        return S * norm.pdf(d1) * np.sqrt(T)\n",
    "    \n",
    "    def call_theta(self, S, K, T, r, sigma):\n",
    "        d1 = self._d1(S, K, T, r, sigma)\n",
    "        d2 = self._d2(S, K, T, r, sigma)\n",
    "        return - ((S * norm.pdf(d1) * sigma) / (2 * np.sqrt(T))) - r * K * np.exp(-r*T) * norm.cdf(d2)\n",
    "    \n",
    "    def call_rho(self, S, K, T, r, sigma):\n",
    "        d2 = self._d2(S, K, T, r, sigma)\n",
    "        return K * T * np.exp(-r*T) * norm.cdf(d2)\n",
    "    \n",
    "    def put_delta(self, S, K, T, r, sigma):\n",
    "        d1 = self._d1(S, K, T, r, sigma)\n",
    "        return norm.cdf(d1) - 1\n",
    "    \n",
    "    def put_gamma(self, S, K, T, r, sigma):\n",
    "        d1 = self._d1(S, K, T, r, sigma)\n",
    "        return norm.pdf(d1) / (S * sigma * np.sqrt(T))\n",
    "    \n",
    "    def put_vega(self, S, K, T, r, sigma):\n",
    "        d1 = self._d1(S, K, T, r, sigma)\n",
    "        return S * norm.pdf(d1) * np.sqrt(T)\n",
    "    \n",
    "    def put_theta(self, S, K, T, r, sigma):\n",
    "        d1 = self._d1(S, K, T, r, sigma)\n",
    "        d2 = self._d2(S, K, T, r, sigma)\n",
    "        return - ((S * norm.pdf(d1) * sigma) / (2 * np.sqrt(T))) + r * K * np.exp(-r*T) * norm.cdf(-d2)\n",
    "    \n",
    "    def put_rho(self, S, K, T, r, sigma):\n",
    "        d2 = self._d2(S, K, T, r, sigma)\n",
    "        return - K * T * np.exp(-r*T) * norm.cdf(-d2)\n",
    "    "
   ]
  },
  {
   "cell_type": "code",
   "execution_count": 3,
   "metadata": {},
   "outputs": [],
   "source": [
    "S = 100 # Stock price\n",
    "K = 105 # Strike price\n",
    "T = 0.2 # Time till expiration (in years)\n",
    "r = 0.1 # Risk-free interest rate\n",
    "sigma = 0.25 # Volatility (standard deviation)"
   ]
  },
  {
   "cell_type": "code",
   "execution_count": 4,
   "metadata": {},
   "outputs": [
    {
     "name": "stdout",
     "output_type": "stream",
     "text": [
      "Call Delta: 0.42011262838310726\n",
      "Call Gamma: 0.03496464881117382\n",
      "Call Vega: 17.482324405586905\n",
      "Call Theta: -14.806415503272795\n",
      "Call Rho: 7.759925499561956\n"
     ]
    }
   ],
   "source": [
    "print(\"Call Delta: {}\".format(Bs_Greeks().call_delta(S, K, T, r, sigma)))\n",
    "print(\"Call Gamma: {}\".format(Bs_Greeks().call_gamma(S, K, T, r, sigma)))\n",
    "print(\"Call Vega: {}\".format(Bs_Greeks().call_vega(S, K, T, r, sigma)))\n",
    "print(\"Call Theta: {}\".format(Bs_Greeks().call_theta(S, K, T, r, sigma)))\n",
    "print(\"Call Rho: {}\".format(Bs_Greeks().call_rho(S, K, T, r, sigma)))"
   ]
  },
  {
   "cell_type": "code",
   "execution_count": 5,
   "metadata": {},
   "outputs": [
    {
     "name": "stdout",
     "output_type": "stream",
     "text": [
      "Put Delta: -0.5798873716168927\n",
      "Put Gamma: 0.03496464881117382\n",
      "Put Vega: 17.482324405586905\n",
      "Put Theta: -4.5143294335518656\n",
      "Put Rho: -12.824246639879904\n"
     ]
    }
   ],
   "source": [
    "print(\"Put Delta: {}\".format(Bs_Greeks().put_delta(S, K, T, r, sigma)))\n",
    "print(\"Put Gamma: {}\".format(Bs_Greeks().put_gamma(S, K, T, r, sigma)))\n",
    "print(\"Put Vega: {}\".format(Bs_Greeks().put_vega(S, K, T, r, sigma)))\n",
    "print(\"Put Theta: {}\".format(Bs_Greeks().put_theta(S, K, T, r, sigma)))\n",
    "print(\"Put Rho: {}\".format(Bs_Greeks().put_rho(S, K, T, r, sigma)))"
   ]
  },
  {
   "cell_type": "code",
   "execution_count": null,
   "metadata": {},
   "outputs": [],
   "source": []
  }
 ],
 "metadata": {
  "kernelspec": {
   "display_name": "Python 3 (ipykernel)",
   "language": "python",
   "name": "python3"
  },
  "language_info": {
   "codemirror_mode": {
    "name": "ipython",
    "version": 3
   },
   "file_extension": ".py",
   "mimetype": "text/x-python",
   "name": "python",
   "nbconvert_exporter": "python",
   "pygments_lexer": "ipython3",
   "version": "3.9.7"
  },
  "vscode": {
   "interpreter": {
    "hash": "a4a21aa976d4109bf28923221bdb1b18714c495c4fd1e120dcdf62335c1bd5cf"
   }
  }
 },
 "nbformat": 4,
 "nbformat_minor": 4
}
