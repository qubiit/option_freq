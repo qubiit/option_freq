{
 "cells": [
  {
   "cell_type": "markdown",
   "metadata": {},
   "source": [
    "Option is an instrument of Derivative Market. It is a contract that permits(not mandatory) a trader to buy or sell an underlyng stock or index at a predeterminated price over a specific time.\n",
    "NSEIndia introduced european style option since 2013 which can be exercised only on expiry day.\n",
    "The [Black–Scholes](https://en.wikipedia.org/wiki/Black%E2%80%93Scholes_model) formula calculates the price of European call and put options. The value of an option for non-divident-paying underlying stock or index in terms of Black-Scholes parameters is:\n",
    "\n",
    "Call Price: $C(S_t, t) = \\Phi(d_1^{(t)})S_t - \\Phi(d_2^{(t)})Ke^{-rT}$\n",
    "Put Price: $P(S_t, t) = \\Phi(-d_2^{(t)})Ke^{-rT} - \\Phi(-d_1^{(t)})S_t$\n",
    "\n",
    "where $d_1^{(t)} = \\frac{1}{\\sigma \\sqrt{T}}[ln(\\frac{S_t}{K}) + (r+\\frac{\\sigma^2}{2})T]$\n",
    "\n",
    "$d_2^{(t)} = d_1^{(t)} - \\sigma \\sqrt{T}$\n",
    "\n",
    "$\\Phi$ denotes the Cumulative Density Function (CDF) of the standard normal distribution ($N(0, 1)$).\n",
    "\n",
    "$S_t$ = Stock price at time $t$,\n",
    "\n",
    "$K$ = Strike price of option,\n",
    "\n",
    "$T$ = time till expiration in years,\n",
    "\n",
    "$r$ = risk-free interest rate,\n",
    "\n",
    "$\\sigma$ = standard deviation (i.e. volatility)."
   ]
  },
  {
   "cell_type": "code",
   "execution_count": 1,
   "metadata": {},
   "outputs": [],
   "source": [
    "import numpy as np\n",
    "from scipy.stats import norm"
   ]
  },
  {
   "cell_type": "code",
   "execution_count": 2,
   "metadata": {},
   "outputs": [],
   "source": [
    "class Black_Scholes:\n",
    "    \n",
    "    @staticmethod\n",
    "    def _d1(S, K, T, r, sigma):\n",
    "        return (1 / (sigma * np.sqrt(T))) * (np.log(S/K) + (r + sigma**2 / 2) * T)\n",
    "    \n",
    "    def _d2(self, S, K, T, r, sigma):\n",
    "        return self._d1(S, K, T, r, sigma) - sigma * np.sqrt(T)\n",
    "    \n",
    "    def call_value(self,S,K,T,r,sigma):\n",
    "        \"\"\"calculate call price\"\"\"\n",
    "        d1 = self._d1(S, K, T, r, sigma)\n",
    "        d2 = self._d2(S, K, T, r, sigma)\n",
    "        return norm.cdf(d1) * S - norm.cdf(d2) * K * np.exp(-r*T)\n",
    "    \n",
    "    def put_value(self,S,K,T,r,sigma):\n",
    "        \"\"\"calculate put price\"\"\"\n",
    "        d1 = self._d1(S, K, T, r, sigma)\n",
    "        d2 = self._d2(S, K, T, r, sigma)\n",
    "        return norm.cdf(-d2) * K * np.exp(-r*T) - norm.cdf(-d1) * S\n",
    "    \n",
    "    def call_moneyness(self,S,K,T,r,sigma):\n",
    "        \"\"\"calculate in the money probability of the call strike price at the expiry date\"\"\"\n",
    "        d2 = self._d2(S, K, T, r, sigma)\n",
    "        return norm.cdf(d2)\n",
    "    \n",
    "    def put_moneyness(self,S,K,T,r,sigma):\n",
    "        \"\"\"calculate in the money probability of the put strike price at the expiry date\"\"\"\n",
    "        d2 = self._d2(S, K, T, r, sigma)\n",
    "        return 1 - norm.cdf(d2)"
   ]
  },
  {
   "cell_type": "code",
   "execution_count": 3,
   "metadata": {},
   "outputs": [],
   "source": [
    "S = 100 # Stock price\n",
    "K = 105 # Strike price\n",
    "T = 0.2 # Time till expiration (in years)\n",
    "r = 0.1 # Risk-free interest rate\n",
    "sigma = 0.25 # Volatility (standard deviation)"
   ]
  },
  {
   "cell_type": "code",
   "execution_count": 4,
   "metadata": {},
   "outputs": [
    {
     "data": {
      "text/plain": [
       "3.2116353405009477"
      ]
     },
     "execution_count": 4,
     "metadata": {},
     "output_type": "execute_result"
    }
   ],
   "source": [
    "Black_Scholes().call_value(S, K, T, r, sigma)"
   ]
  },
  {
   "cell_type": "code",
   "execution_count": 5,
   "metadata": {},
   "outputs": [
    {
     "data": {
      "text/plain": [
       "6.13249603771024"
      ]
     },
     "execution_count": 5,
     "metadata": {},
     "output_type": "execute_result"
    }
   ],
   "source": [
    "Black_Scholes().put_value(S, K, T, r, sigma)"
   ]
  },
  {
   "cell_type": "code",
   "execution_count": 6,
   "metadata": {},
   "outputs": [
    {
     "data": {
      "text/plain": [
       "0.37698506634099527"
      ]
     },
     "execution_count": 6,
     "metadata": {},
     "output_type": "execute_result"
    }
   ],
   "source": [
    "Black_Scholes().call_moneyness(S, K, T, r, sigma)"
   ]
  },
  {
   "cell_type": "code",
   "execution_count": 7,
   "metadata": {},
   "outputs": [
    {
     "data": {
      "text/plain": [
       "0.6230149336590047"
      ]
     },
     "execution_count": 7,
     "metadata": {},
     "output_type": "execute_result"
    }
   ],
   "source": [
    "Black_Scholes().put_moneyness(S, K, T, r, sigma)"
   ]
  },
  {
   "cell_type": "code",
   "execution_count": null,
   "metadata": {},
   "outputs": [],
   "source": []
  }
 ],
 "metadata": {
  "kernelspec": {
   "display_name": "Python 3 (ipykernel)",
   "language": "python",
   "name": "python3"
  },
  "language_info": {
   "codemirror_mode": {
    "name": "ipython",
    "version": 3
   },
   "file_extension": ".py",
   "mimetype": "text/x-python",
   "name": "python",
   "nbconvert_exporter": "python",
   "pygments_lexer": "ipython3",
   "version": "3.9.7"
  },
  "vscode": {
   "interpreter": {
    "hash": "a4a21aa976d4109bf28923221bdb1b18714c495c4fd1e120dcdf62335c1bd5cf"
   }
  }
 },
 "nbformat": 4,
 "nbformat_minor": 4
}
